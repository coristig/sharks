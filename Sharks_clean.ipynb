{
 "cells": [
  {
   "cell_type": "code",
   "execution_count": 58,
   "metadata": {
    "collapsed": true
   },
   "outputs": [],
   "source": [
    "import xlrd\n",
    "import pandas as pd\n",
    "import numpy as np\n",
    "import re"
   ]
  },
  {
   "cell_type": "code",
   "execution_count": 59,
   "metadata": {
    "collapsed": false
   },
   "outputs": [],
   "source": [
    "book = xlrd.open_workbook('GSAF5.xls',formatting_info=True)\n",
    "sheet = book.sheet_by_index(0)"
   ]
  },
  {
   "cell_type": "code",
   "execution_count": 60,
   "metadata": {
    "collapsed": false
   },
   "outputs": [],
   "source": [
    "colors = []\n",
    "for item in range(5717):\n",
    "    xfx = sheet.cell_xf_index(item, 4)\n",
    "    xf = book.xf_list[xfx]\n",
    "    bgx = xf.background.pattern_colour_index\n",
    "    colors.append(bgx)"
   ]
  },
  {
   "cell_type": "code",
   "execution_count": 3,
   "metadata": {
    "collapsed": false
   },
   "outputs": [
    {
     "ename": "NameError",
     "evalue": "name 'colors' is not defined",
     "output_type": "error",
     "traceback": [
      "\u001b[0;31m---------------------------------------------------------------------------\u001b[0m",
      "\u001b[0;31mNameError\u001b[0m                                 Traceback (most recent call last)",
      "\u001b[0;32m<ipython-input-3-f5061a427942>\u001b[0m in \u001b[0;36m<module>\u001b[0;34m()\u001b[0m\n\u001b[0;32m----> 1\u001b[0;31m \u001b[0mset\u001b[0m\u001b[0;34m(\u001b[0m\u001b[0mcolors\u001b[0m\u001b[0;34m)\u001b[0m\u001b[0;34m\u001b[0m\u001b[0m\n\u001b[0m",
      "\u001b[0;31mNameError\u001b[0m: name 'colors' is not defined"
     ]
    }
   ],
   "source": [
    "set(colors)"
   ]
  },
  {
   "cell_type": "code",
   "execution_count": 62,
   "metadata": {
    "collapsed": true
   },
   "outputs": [],
   "source": [
    "colorlist={8:'index',\n",
    "60:'Unprovoked Incidents',\n",
    "47:'Provoked Incidents',\n",
    "42:'Incidents Involving Boats',\n",
    "43:'Air / Sea Disasters',\n",
    "44:'Questionable Incidents',\n",
    "64:'blank',\n",
    "22:'Steve Irwin'}"
   ]
  },
  {
   "cell_type": "code",
   "execution_count": 63,
   "metadata": {
    "collapsed": false
   },
   "outputs": [],
   "source": [
    "attack_type = [colorlist[x] for x in colors[1:]]"
   ]
  },
  {
   "cell_type": "code",
   "execution_count": 64,
   "metadata": {
    "collapsed": false
   },
   "outputs": [],
   "source": [
    "df= pd.read_excel('GSAF5.xls')"
   ]
  },
  {
   "cell_type": "code",
   "execution_count": 65,
   "metadata": {
    "collapsed": false
   },
   "outputs": [],
   "source": [
    "df['Attack_Type'] = attack_type\n",
    "df['Activity'] = df['Activity'].str.lower()\n",
    "df['Activity'] = df['Activity'].str.replace('-','')\n",
    "df['Species '] = df['Species '].str.lower()\n",
    "df['Fatal'] = df['Injury'].str.contains('FATAL')\n",
    "df['Country'] = df['Country'].str.upper()"
   ]
  },
  {
   "cell_type": "code",
   "execution_count": 1,
   "metadata": {
    "collapsed": false
   },
   "outputs": [
    {
     "ename": "NameError",
     "evalue": "name 'df' is not defined",
     "output_type": "error",
     "traceback": [
      "\u001b[0;31m---------------------------------------------------------------------------\u001b[0m",
      "\u001b[0;31mNameError\u001b[0m                                 Traceback (most recent call last)",
      "\u001b[0;32m<ipython-input-1-9edc5b5077a6>\u001b[0m in \u001b[0;36m<module>\u001b[0;34m()\u001b[0m\n\u001b[1;32m     20\u001b[0m         \u001b[0;32mreturn\u001b[0m \u001b[0mstr\u001b[0m\u001b[0;34m(\u001b[0m\u001b[0mres\u001b[0m\u001b[0;34m.\u001b[0m\u001b[0mgroup\u001b[0m\u001b[0;34m(\u001b[0m\u001b[0;34m)\u001b[0m\u001b[0;34m)\u001b[0m\u001b[0;34m\u001b[0m\u001b[0m\n\u001b[1;32m     21\u001b[0m \u001b[0;34m\u001b[0m\u001b[0m\n\u001b[0;32m---> 22\u001b[0;31m \u001b[0mdf\u001b[0m\u001b[0;34m[\u001b[0m\u001b[0;34m'year'\u001b[0m\u001b[0;34m]\u001b[0m \u001b[0;34m=\u001b[0m \u001b[0mdf\u001b[0m\u001b[0;34m[\u001b[0m\u001b[0;34m'Date'\u001b[0m\u001b[0;34m]\u001b[0m\u001b[0;34m.\u001b[0m\u001b[0mmap\u001b[0m\u001b[0;34m(\u001b[0m\u001b[0myear\u001b[0m\u001b[0;34m)\u001b[0m\u001b[0;34m\u001b[0m\u001b[0m\n\u001b[0m\u001b[1;32m     23\u001b[0m \u001b[0mdf\u001b[0m\u001b[0;34m[\u001b[0m\u001b[0;34m'month'\u001b[0m\u001b[0;34m]\u001b[0m \u001b[0;34m=\u001b[0m \u001b[0mdf\u001b[0m\u001b[0;34m[\u001b[0m\u001b[0;34m'Date'\u001b[0m\u001b[0;34m]\u001b[0m\u001b[0;34m.\u001b[0m\u001b[0mmap\u001b[0m\u001b[0;34m(\u001b[0m\u001b[0mmonth\u001b[0m\u001b[0;34m)\u001b[0m\u001b[0;34m\u001b[0m\u001b[0m\n\u001b[1;32m     24\u001b[0m \u001b[0mdf\u001b[0m\u001b[0;34m[\u001b[0m\u001b[0;34m'day'\u001b[0m\u001b[0;34m]\u001b[0m \u001b[0;34m=\u001b[0m \u001b[0mdf\u001b[0m\u001b[0;34m[\u001b[0m\u001b[0;34m'Date'\u001b[0m\u001b[0;34m]\u001b[0m\u001b[0;34m.\u001b[0m\u001b[0mmap\u001b[0m\u001b[0;34m(\u001b[0m\u001b[0mday\u001b[0m\u001b[0;34m)\u001b[0m\u001b[0;34m\u001b[0m\u001b[0m\n",
      "\u001b[0;31mNameError\u001b[0m: name 'df' is not defined"
     ]
    }
   ],
   "source": [
    "def year(x):\n",
    "    res = re.search(r'([0-9]{4})',str(x))\n",
    "    if res is None:\n",
    "        return None\n",
    "    else: \n",
    "        return int(res.group())\n",
    "\n",
    "def day(x):\n",
    "    res = re.search(r'(^|\\b)(([0-9]{2}))(?=-)',str(x))\n",
    "    if res is None:\n",
    "        return None\n",
    "    else:\n",
    "        return int(res.group())\n",
    "    \n",
    "def month(x):\n",
    "    res = re.search(r'(?!-)(([A-Za-z]{3}))(?=-)',str(x))\n",
    "    if res is None:\n",
    "        return None\n",
    "    else:\n",
    "        return str(res.group())\n",
    "\n",
    "df['year'] = df['Date'].map(year)\n",
    "df['month'] = df['Date'].map(month)\n",
    "df['day'] = df['Date'].map(day)"
   ]
  },
  {
   "cell_type": "code",
   "execution_count": 67,
   "metadata": {
    "collapsed": false
   },
   "outputs": [],
   "source": [
    "def types(x):\n",
    "    if re.search(r'\\bscuba\\b',str(x)):\n",
    "        x='scuba_diving'\n",
    "        return x\n",
    "    elif re.search(r\"\\bspearfishing\\b\",str(x)) and not(re.search(r'\\bscuba\\b',str(x))):\n",
    "        x = 'spear_fishing'\n",
    "        return x\n",
    "    elif re.search(r\"\\bswimming\\b\",str(x)):\n",
    "        x = 'swimming'\n",
    "        return x\n",
    "    elif re.search(r\"\\bstanding\\b\",str(x)):\n",
    "        x = 'standing'\n",
    "        return x\n",
    "    elif re.search(\"bodysurfing\",str(x)) or (re.search(\"body surfing\",str(x))):\n",
    "        x = 'body_surfing'\n",
    "        return x\n",
    "    elif re.search(\"bodyboarding\",str(x)) or (re.search(\"body-boarding\",str(x)))or (re.search(\"body boarding\",str(x))):\n",
    "        x = 'body_boarding'\n",
    "        return x\n",
    "    elif re.search(r\"\\bsurfing\\b\",str(x)) or (re.search(\"surfboard\",str(x))):\n",
    "        x = 'surfing'\n",
    "        return x\n",
    "    elif re.search(\"surf-skiing\",str(x)) or (re.search(\"surf skiing\",str(x))) or (re.search(\"surfskiing\",str(x))):\n",
    "        x = 'surf_skiing'\n",
    "        return x\n",
    "    elif re.search(\"pearl diving\",str(x)):\n",
    "        x = 'pearl_diving'\n",
    "        return x\n",
    "    elif re.search(r\"\\bdiving\\b\",str(x)):\n",
    "        x = 'diving'\n",
    "        return x\n",
    "    elif re.search(r\"\\bspear\\b\",str(x)):\n",
    "        x = 'spear_fishing'\n",
    "        return x\n",
    "    elif re.search(r\"\\bbathing\\b\",str(x)):\n",
    "        x = 'bathing'\n",
    "        return x\n",
    "    elif re.search(r\"\\bfishing\\b\",str(x)):\n",
    "        x = 'fishing'\n",
    "        return x\n",
    "    elif re.search(r\"\\bfreediving\\b\",str(x)) or (re.search(\"free diving\",str(x))):\n",
    "        x = 'free_diving'\n",
    "        return x\n",
    "    elif re.search(\"boogie\",str(x)):\n",
    "        x = 'boogie_boarding'\n",
    "        return x\n",
    "    elif re.search(\"capsized\",str(x)) or (re.search(\"sank\",str(x))) or (re.search(\"went down\",str(x))) \\\n",
    "    or (re.search(\"disaster\",str(x))) or (re.search(\"crash\",str(x))) or (re.search(\"wreck\",str(x))):\n",
    "        x = 'sea_disaster'\n",
    "        return x\n",
    "    elif re.search(r\"\\bwading\\b\",str(x)):\n",
    "        x = 'wading'\n",
    "        return x\n",
    "    else: return x\n",
    "\n",
    "df['Activity'] = df['Activity'].map(types)"
   ]
  },
  {
   "cell_type": "code",
   "execution_count": 71,
   "metadata": {
    "collapsed": false
   },
   "outputs": [
    {
     "data": {
      "text/html": [
       "<div>\n",
       "<table border=\"1\" class=\"dataframe\">\n",
       "  <thead>\n",
       "    <tr style=\"text-align: right;\">\n",
       "      <th></th>\n",
       "      <th>Case Number</th>\n",
       "      <th>Date</th>\n",
       "      <th>Country</th>\n",
       "      <th>Area</th>\n",
       "      <th>Location</th>\n",
       "      <th>Activity</th>\n",
       "      <th>Name</th>\n",
       "      <th>Sex</th>\n",
       "      <th>Age</th>\n",
       "      <th>Injury</th>\n",
       "      <th>Time</th>\n",
       "      <th>Species</th>\n",
       "      <th>Investigator or Source</th>\n",
       "      <th>Attack_Type</th>\n",
       "      <th>Fatal</th>\n",
       "      <th>year</th>\n",
       "      <th>month</th>\n",
       "      <th>day</th>\n",
       "    </tr>\n",
       "  </thead>\n",
       "  <tbody>\n",
       "    <tr>\n",
       "      <th>0</th>\n",
       "      <td>ND.0001</td>\n",
       "      <td>1845-1853</td>\n",
       "      <td>CEYLON (SRI LANKA)</td>\n",
       "      <td>Eastern Province</td>\n",
       "      <td>Below the English fort, Trincomalee</td>\n",
       "      <td>swimming</td>\n",
       "      <td>male</td>\n",
       "      <td>M</td>\n",
       "      <td>15</td>\n",
       "      <td>FATAL. \"Shark bit him in half, carrying away t...</td>\n",
       "      <td></td>\n",
       "      <td></td>\n",
       "      <td>S.W. Baker</td>\n",
       "      <td>Unprovoked Incidents</td>\n",
       "      <td>True</td>\n",
       "      <td>1845</td>\n",
       "      <td></td>\n",
       "      <td></td>\n",
       "    </tr>\n",
       "    <tr>\n",
       "      <th>1</th>\n",
       "      <td>ND.0002</td>\n",
       "      <td>1883-1889</td>\n",
       "      <td>PANAMA</td>\n",
       "      <td></td>\n",
       "      <td>Panama Bay 8ºN, 79ºW</td>\n",
       "      <td></td>\n",
       "      <td>Jules Patterson</td>\n",
       "      <td>M</td>\n",
       "      <td></td>\n",
       "      <td>FATAL</td>\n",
       "      <td></td>\n",
       "      <td></td>\n",
       "      <td>The Sun, 10/20/1938</td>\n",
       "      <td>Unprovoked Incidents</td>\n",
       "      <td>True</td>\n",
       "      <td>1883</td>\n",
       "      <td></td>\n",
       "      <td></td>\n",
       "    </tr>\n",
       "    <tr>\n",
       "      <th>2</th>\n",
       "      <td>ND.0003</td>\n",
       "      <td>1900-1905</td>\n",
       "      <td>USA</td>\n",
       "      <td>North Carolina</td>\n",
       "      <td>Ocracoke Inlet</td>\n",
       "      <td>swimming</td>\n",
       "      <td>Coast Guard personnel</td>\n",
       "      <td>M</td>\n",
       "      <td></td>\n",
       "      <td>FATAL</td>\n",
       "      <td></td>\n",
       "      <td></td>\n",
       "      <td>F. Schwartz, p.23; C. Creswell, GSAF</td>\n",
       "      <td>Unprovoked Incidents</td>\n",
       "      <td>True</td>\n",
       "      <td>1900</td>\n",
       "      <td></td>\n",
       "      <td></td>\n",
       "    </tr>\n",
       "    <tr>\n",
       "      <th>3</th>\n",
       "      <td>ND.0004</td>\n",
       "      <td>Before 1903</td>\n",
       "      <td>AUSTRALIA</td>\n",
       "      <td>Western Australia</td>\n",
       "      <td></td>\n",
       "      <td>pearl_diving</td>\n",
       "      <td>Ahmun</td>\n",
       "      <td>M</td>\n",
       "      <td></td>\n",
       "      <td>FATAL</td>\n",
       "      <td></td>\n",
       "      <td></td>\n",
       "      <td>H. Taunton; N. Bartlett,  pp. 233-234</td>\n",
       "      <td>Unprovoked Incidents</td>\n",
       "      <td>True</td>\n",
       "      <td>1903</td>\n",
       "      <td></td>\n",
       "      <td></td>\n",
       "    </tr>\n",
       "    <tr>\n",
       "      <th>4</th>\n",
       "      <td>ND.0005</td>\n",
       "      <td>Before 1903</td>\n",
       "      <td>AUSTRALIA</td>\n",
       "      <td>Western Australia</td>\n",
       "      <td>Roebuck Bay</td>\n",
       "      <td>diving</td>\n",
       "      <td>male</td>\n",
       "      <td>M</td>\n",
       "      <td></td>\n",
       "      <td>FATAL</td>\n",
       "      <td></td>\n",
       "      <td></td>\n",
       "      <td>H. Taunton; N. Bartlett,  p. 234</td>\n",
       "      <td>Unprovoked Incidents</td>\n",
       "      <td>True</td>\n",
       "      <td>1903</td>\n",
       "      <td></td>\n",
       "      <td></td>\n",
       "    </tr>\n",
       "  </tbody>\n",
       "</table>\n",
       "</div>"
      ],
      "text/plain": [
       "  Case Number         Date             Country               Area  \\\n",
       "0     ND.0001    1845-1853  CEYLON (SRI LANKA)   Eastern Province   \n",
       "1     ND.0002    1883-1889              PANAMA                      \n",
       "2     ND.0003    1900-1905                 USA     North Carolina   \n",
       "3     ND.0004  Before 1903           AUSTRALIA  Western Australia   \n",
       "4     ND.0005  Before 1903           AUSTRALIA  Western Australia   \n",
       "\n",
       "                              Location      Activity                   Name  \\\n",
       "0  Below the English fort, Trincomalee      swimming                   male   \n",
       "1                 Panama Bay 8ºN, 79ºW                      Jules Patterson   \n",
       "2                       Ocracoke Inlet      swimming  Coast Guard personnel   \n",
       "3                                       pearl_diving                  Ahmun   \n",
       "4                          Roebuck Bay        diving                   male   \n",
       "\n",
       "  Sex  Age                                             Injury Time Species   \\\n",
       "0    M  15  FATAL. \"Shark bit him in half, carrying away t...                 \n",
       "1    M                                                  FATAL                 \n",
       "2    M                                                  FATAL                 \n",
       "3    M                                                  FATAL                 \n",
       "4    M                                                  FATAL                 \n",
       "\n",
       "                  Investigator or Source           Attack_Type Fatal  year  \\\n",
       "0                             S.W. Baker  Unprovoked Incidents  True  1845   \n",
       "1                    The Sun, 10/20/1938  Unprovoked Incidents  True  1883   \n",
       "2   F. Schwartz, p.23; C. Creswell, GSAF  Unprovoked Incidents  True  1900   \n",
       "3  H. Taunton; N. Bartlett,  pp. 233-234  Unprovoked Incidents  True  1903   \n",
       "4       H. Taunton; N. Bartlett,  p. 234  Unprovoked Incidents  True  1903   \n",
       "\n",
       "  month day  \n",
       "0            \n",
       "1            \n",
       "2            \n",
       "3            \n",
       "4            "
      ]
     },
     "execution_count": 71,
     "metadata": {},
     "output_type": "execute_result"
    }
   ],
   "source": [
    "df = df.fillna('')\n",
    "df.head()\n",
    "# df.to_csv('./sharks_cleaned.csv',index=False)"
   ]
  },
  {
   "cell_type": "code",
   "execution_count": 139,
   "metadata": {
    "collapsed": false
   },
   "outputs": [],
   "source": [
    "def fix_locs(x):\n",
    "    if str(x.Location)!=None:\n",
    "        if 'Klamath River' in str(x.Location):\n",
    "            return (41.5444542,-124.0705673)\n",
    "        elif str(x.Location)=='South Moss Beach, Spanish Bay, Monterey Peninsula':\n",
    "            return (36.610643, -121.949255)\n",
    "        elif str(x.Location)=='Davenport Landing':\n",
    "            return (37.023281, -122.215310)\n",
    "        elif str(x.Location)=='Capistrano, Orange County':\n",
    "            return (33.458935, -117.682083)\n",
    "        elif str(x.Location)=='North Farallon Island, Farallon Islands':\n",
    "            return (37.767277, -123.098960)\n",
    "        elif str(x.Location)=='West Cove, Catalina Island':\n",
    "            return (33.472051, -118.604834)\n",
    "        elif str(x.Name)=='Norman Piexotto':\n",
    "            return (37.733333, -122.256667)\n",
    "        elif str(x.Location)=='Pigeon Point':\n",
    "            return (37.183001, -122.394740)\n",
    "        elif str(x.Location)=='Usal Creek, Bear Harbor, Mendocino County':\n",
    "            return (39.913219, -123.938730)\n",
    "        elif str(x.Name)=='David Bull':\n",
    "            return (33.375996, -117.569556)\n",
    "        else:\n",
    "            return x.coords\n",
    "    return x.coords\n",
    "        \n",
    "def extract_lat(x):\n",
    "    if x!=None:\n",
    "        return x[0]\n",
    "    else:\n",
    "        return None\n",
    "    \n",
    "def extract_lon(x):\n",
    "    if x!=None:\n",
    "        return x[1]\n",
    "    else:\n",
    "        return None"
   ]
  },
  {
   "cell_type": "code",
   "execution_count": 140,
   "metadata": {
    "collapsed": false
   },
   "outputs": [],
   "source": [
    "result[\"coords\"] = result.apply(fix_locs,axis=1)\n",
    "result[\"latitude\"] = result[\"coords\"].map(extract_lat)\n",
    "result[\"longitude\"] = result[\"coords\"].map(extract_lon)"
   ]
  }
 ],
 "metadata": {
  "kernelspec": {
   "display_name": "Python 3",
   "language": "python",
   "name": "python3"
  },
  "language_info": {
   "codemirror_mode": {
    "name": "ipython",
    "version": 3
   },
   "file_extension": ".py",
   "mimetype": "text/x-python",
   "name": "python",
   "nbconvert_exporter": "python",
   "pygments_lexer": "ipython3",
   "version": "3.4.3"
  }
 },
 "nbformat": 4,
 "nbformat_minor": 0
}
